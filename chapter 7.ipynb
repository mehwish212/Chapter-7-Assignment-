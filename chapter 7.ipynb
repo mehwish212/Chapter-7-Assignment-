{
 "cells": [
  {
   "cell_type": "code",
   "execution_count": 1,
   "metadata": {},
   "outputs": [
    {
     "name": "stdout",
     "output_type": "stream",
     "text": [
      "What kind of car would you like? subaru\n",
      "its not subaru\n"
     ]
    }
   ],
   "source": [
    "#try It yourself 7-1. Rental Car:\n",
    "\n",
    "rantal_car = input(\"What kind of car would you like? \")\n",
    "if rantal_car.lower() == 'Subaru':\n",
    "    print(\"You are having Subaru.\")\n",
    "else:\n",
    "    print(\"its not subaru\")\n"
   ]
  },
  {
   "cell_type": "code",
   "execution_count": 2,
   "metadata": {},
   "outputs": [
    {
     "name": "stdout",
     "output_type": "stream",
     "text": [
      "How many people are there in dinner group? 13\n",
      "you will have to wait for the table.\n"
     ]
    }
   ],
   "source": [
    "#try It yourself 7-2. Restaurant Seating:\n",
    "\n",
    "restaurant_seating = input(\"How many people are there in dinner group? \")\n",
    "restaurant_seating = int(restaurant_seating)\n",
    "\n",
    "if restaurant_seating > 8:\n",
    "    print(\"you will have to wait for the table.\")\n",
    "else:\n",
    "    print(\"table is ready for you\")"
   ]
  },
  {
   "cell_type": "code",
   "execution_count": 5,
   "metadata": {},
   "outputs": [
    {
     "name": "stdout",
     "output_type": "stream",
     "text": [
      "Enter a number ,i will tell you if it is multiple of ten? 4\n",
      "4 The number is not multiple of ten\n"
     ]
    }
   ],
   "source": [
    "#try It yourself 7-3. Multiples of Ten:\n",
    "\n",
    "number = input(\"Enter a number ,i will tell you if it is multiple of ten? \")\n",
    "number = int(number)\n",
    "\n",
    "if number % 10== 0:\n",
    "    print(str(number)+\" It is multiple of ten\")\n",
    "else:\n",
    "    print(str(number)+\" The number is not multiple of ten\")"
   ]
  },
  {
   "cell_type": "code",
   "execution_count": 5,
   "metadata": {},
   "outputs": [
    {
     "name": "stdout",
     "output_type": "stream",
     "text": [
      "What topping would you like on your pizza? \n",
      " or press 'quit' to quit the program cheese\n",
      "I will add  cheese to your pizza.\n",
      "What topping would you like on your pizza? \n",
      " or press 'quit' to quit the program chilli\n",
      "I will add  chilli to your pizza.\n",
      "What topping would you like on your pizza? \n",
      " or press 'quit' to quit the program olive\n",
      "I will add  olive to your pizza.\n",
      "What topping would you like on your pizza? \n",
      " or press 'quit' to quit the program quit\n"
     ]
    }
   ],
   "source": [
    "#try It yourself 7-4. Pizza Toppings:\n",
    "\n",
    "prompt = \"What topping would you like on your pizza? \"\n",
    "prompt += \"\\n or press 'quit' to quit the program \"\n",
    "\n",
    "while True:\n",
    "    message = input(prompt)\n",
    "    \n",
    "    if message != 'quit':\n",
    "        print(\"I will add  \"+message+\" to your pizza.\")\n",
    "    else:\n",
    "        break\n",
    "    "
   ]
  },
  {
   "cell_type": "code",
   "execution_count": 7,
   "metadata": {},
   "outputs": [
    {
     "name": "stdout",
     "output_type": "stream",
     "text": [
      "Whats your age \n",
      " press quit to end the progarm 11\n",
      "The ticket cost is: 10\n",
      "Whats your age \n",
      " press quit to end the progarm 21\n",
      "The ticket cost is: 15\n",
      "Whats your age \n",
      " press quit to end the progarm quit\n"
     ]
    }
   ],
   "source": [
    "#try It yourself 7-5. Movie Tickets:\n",
    "prompt = 'Whats your age '\n",
    "prompt += '\\n press quit to end the progarm '\n",
    "\n",
    "\n",
    "while True:\n",
    "    age = input(prompt)\n",
    "    if age == 'quit':\n",
    "        break\n",
    "    age = int(age)\n",
    "    \n",
    "    if age < 3:\n",
    "        ticket = 'free'\n",
    "    elif  age >= 3 and age < 12:\n",
    "        ticket = 10\n",
    "    else:  \n",
    "        age >  12\n",
    "        ticket = 15\n",
    "    print(\"The ticket cost is: \"+str(ticket))   \n",
    "        \n",
    "        "
   ]
  },
  {
   "cell_type": "code",
   "execution_count": 8,
   "metadata": {},
   "outputs": [
    {
     "name": "stdout",
     "output_type": "stream",
     "text": [
      "Enter anything i will back it to youEnter quit to end the program Hey\n",
      "Hey\n",
      "Enter anything i will back it to youEnter quit to end the program python\n",
      "python\n",
      "Enter anything i will back it to youEnter quit to end the program quit\n",
      "quit\n"
     ]
    }
   ],
   "source": [
    "#try It yourself 7- 6. Three Exits:\n",
    "\n",
    "prompt= \"Enter anything i will back it to you\"\n",
    "prompt += \"Enter quit to end the program \"\n",
    "\n",
    "msg = \"\"\n",
    "while msg != 'quit':\n",
    "    msg = input(prompt)\n",
    "    print(msg)\n",
    "    \n",
    "    \n",
    "    "
   ]
  },
  {
   "cell_type": "code",
   "execution_count": 1,
   "metadata": {},
   "outputs": [
    {
     "name": "stdout",
     "output_type": "stream",
     "text": [
      "Enter anything i will back it to you\n",
      " Enter quit to end the program my favourite language\n",
      "Enter anything i will back it to you\n",
      " Enter quit to end the program python\n",
      "Enter anything i will back it to you\n",
      " Enter quit to end the program quit\n",
      "quit\n"
     ]
    }
   ],
   "source": [
    "#try It yourself 7- 6. Three Exits:\n",
    "\n",
    "prompt= \"Enter anything i will back it to you\\n\"\n",
    "prompt += \" Enter quit to end the program \"\n",
    "\n",
    "active = True\n",
    "while active:\n",
    "    \n",
    "    msg = input(prompt)\n",
    "    if msg == 'quit':\n",
    "        active = False\n",
    "    \n",
    "        print(msg)\n",
    "    \n",
    "    "
   ]
  },
  {
   "cell_type": "code",
   "execution_count": 2,
   "metadata": {},
   "outputs": [
    {
     "name": "stdout",
     "output_type": "stream",
     "text": [
      "Enter anything i will back it to youEnter quit to end the program practice\n",
      "Enter anything i will back it to youEnter quit to end the program more practice\n",
      "Enter anything i will back it to youEnter quit to end the program quit\n"
     ]
    }
   ],
   "source": [
    "#try It yourself 7- 6. Three Exits:\n",
    "\n",
    "prompt= \"Enter anything i will back it to you\"\n",
    "prompt += \"Enter quit to end the program \"\n",
    "\n",
    "while True:\n",
    "    \n",
    "    msg = input(prompt)\n",
    "    if msg == 'quit':\n",
    "        break\n",
    "    \n",
    "        print(msg)\n",
    "    "
   ]
  },
  {
   "cell_type": "code",
   "execution_count": 2,
   "metadata": {},
   "outputs": [
    {
     "name": "stdout",
     "output_type": "stream",
     "text": [
      "1\n",
      "2\n",
      "3\n"
     ]
    }
   ],
   "source": [
    "#try It yourself 7- 7. Infinity:\n",
    "\n",
    "x = 1\n",
    "\n",
    "while x <= 3:\n",
    "    print(x)\n",
    "    x += 1"
   ]
  },
  {
   "cell_type": "code",
   "execution_count": 14,
   "metadata": {},
   "outputs": [
    {
     "name": "stdout",
     "output_type": "stream",
     "text": [
      "Adding sandwiches Chicken\n",
      "Adding sandwiches Mayonise\n",
      "Adding sandwiches Cheese\n",
      "\n",
      "you ordered these sandwiches:\n",
      "Chicken\n",
      "Mayonise\n",
      "Cheese\n"
     ]
    }
   ],
   "source": [
    "#try It yourself 7-8. Deli:\n",
    "sandwich_orders = ['Cheese','mayonise','chicken']\n",
    "finished_sandwiches = []\n",
    "\n",
    "while sandwich_orders:\n",
    "    \n",
    "        value = sandwich_orders.pop()\n",
    "        print(\"Adding sandwiches \"+value.title())\n",
    "        finished_sandwiches.append(value)\n",
    "        \n",
    "print(\"\\nyou ordered these sandwiches:\")       \n",
    "for finished_sandwiche in finished_sandwiches:\n",
    "     print(finished_sandwiche.title())\n",
    "        "
   ]
  },
  {
   "cell_type": "code",
   "execution_count": 17,
   "metadata": {},
   "outputs": [
    {
     "name": "stdout",
     "output_type": "stream",
     "text": [
      "['cheese', 'mayonise', 'chicken', 'oliev', 'cheese', 'butter', 'cheese']\n",
      "['mayonise', 'chicken', 'oliev', 'butter']\n"
     ]
    }
   ],
   "source": [
    "#try It yourself No Pastrami:\n",
    "\n",
    "sandwich_orders = ['cheese','mayonise','chicken','oliev','cheese','butter','cheese']\n",
    "print(sandwich_orders)\n",
    "\n",
    "while 'cheese' in sandwich_orders:\n",
    "    sandwich_orders.remove('cheese')\n",
    "    \n",
    "print(sandwich_orders)"
   ]
  },
  {
   "cell_type": "code",
   "execution_count": 2,
   "metadata": {},
   "outputs": [
    {
     "name": "stdout",
     "output_type": "stream",
     "text": [
      "What's your name?Aiman\n",
      "which country would you like to visit?Bahrain\n",
      "would you like to visit other country: yes/no?y\n",
      "What's your name?Mahnoor\n",
      "which country would you like to visit?London\n",
      "would you like to visit other country: yes/no?no\n",
      "your information\n",
      "Aiman  want to visit Bahrain\n",
      "Mahnoor  want to visit London\n"
     ]
    }
   ],
   "source": [
    "#try It yourself 7-10. Dream Vacation:\n",
    "\n",
    "places = {}\n",
    "\n",
    "active = True\n",
    "while active:\n",
    "    \n",
    "    name = input(\"What's your name?\")\n",
    "    country = input( 'which country would you like to visit?')\n",
    "\n",
    "    places[name] = country\n",
    "    \n",
    "    var = input(\"would you like to visit other country: yes/no?\")\n",
    "    if var == 'no':\n",
    "        active = False\n",
    "        \n",
    "        print(\"your information\")\n",
    "        \n",
    "        for name ,country in places.items():\n",
    "            print(name+\"  want to visit \"+country)\n",
    "        "
   ]
  },
  {
   "cell_type": "code",
   "execution_count": null,
   "metadata": {
    "collapsed": true
   },
   "outputs": [],
   "source": []
  }
 ],
 "metadata": {
  "kernelspec": {
   "display_name": "Python 3",
   "language": "python",
   "name": "python3"
  },
  "language_info": {
   "codemirror_mode": {
    "name": "ipython",
    "version": 3
   },
   "file_extension": ".py",
   "mimetype": "text/x-python",
   "name": "python",
   "nbconvert_exporter": "python",
   "pygments_lexer": "ipython3",
   "version": "3.6.1"
  }
 },
 "nbformat": 4,
 "nbformat_minor": 2
}
